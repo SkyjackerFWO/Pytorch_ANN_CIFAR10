{
 "cells": [
  {
   "cell_type": "code",
   "execution_count": 1,
   "metadata": {},
   "outputs": [],
   "source": [
    "import torch \n",
    "import torch.nn as nn"
   ]
  },
  {
   "cell_type": "code",
   "execution_count": 2,
   "metadata": {},
   "outputs": [
    {
     "data": {
      "text/plain": [
       "True"
      ]
     },
     "execution_count": 2,
     "metadata": {},
     "output_type": "execute_result"
    }
   ],
   "source": [
    "torch.cuda.is_available()"
   ]
  },
  {
   "cell_type": "code",
   "execution_count": 5,
   "metadata": {},
   "outputs": [],
   "source": [
    "class block(nn.Module):\n",
    "    def __init__(self, in_channels, out_channels, identity_downsample = None, stride=1):\n",
    "        super(block,self).__init__()\n",
    "        self.expansion = 4\n",
    "        self.conv1 = nn.Conv2d(in_channels,out_channels, kernel_size=1,stride=1,padding=0, bias=False)\n",
    "        self.bn1 = nn.BatchNorm2d(out_channels)\n",
    "        self.conv2 = nn.Conv2d(out_channels, out_channels, kernel_size=3, stride=stride, padding=1, bias=False)\n",
    "        self.bn2 = nn.BatchNorm2d(out_channels)\n",
    "        self.conv3 = nn.Conv2d(out_channels, out_channels*self.expansion, kernel_size=1,stride=1, padding=0, bias=False)\n",
    "        self.bn3 = nn.BatchNorm2d(out_channels*self.expansion)\n",
    "        self.relu = nn.ReLU()\n",
    "        self.identity_downsample = identity_downsample\n",
    "        self.stride = stride\n",
    "        \n",
    "    def forward(self,x):\n",
    "        identity = x.clone()\n",
    "        \n",
    "        x = self.conv1(x)\n",
    "        x = self.bn1(x)\n",
    "        x = self.relu(x)\n",
    "        x = self.conv2(x)\n",
    "        x = self.bn2(x)\n",
    "        x = self.relu(x)\n",
    "        x = self.conv3(x)\n",
    "        x = self.bn3(x)\n",
    "        \n",
    "        if self.identity_downsample is not None:\n",
    "            identity = self.identity_downsample(identity)\n",
    "            \n",
    "        x += identity\n",
    "        x = self.relu(x)\n",
    "        return x\n",
    "    "
   ]
  },
  {
   "cell_type": "code",
   "execution_count": 6,
   "metadata": {},
   "outputs": [],
   "source": [
    "#34-Layer\n",
    "\n",
    "class ResNet(nn.Module): #[3 , 4 , 6 , 3]\n",
    "    def __init__(self, block, layers, image_channels, num_classes):\n",
    "        super(ResNet,self).__init__()\n",
    "        self.in_channels = 64\n",
    "        self.conv1 = nn.Conv2d(image_channels, 64, kernel_size=7, stride= 2, padding=3)\n",
    "        self.bn1 = nn.BatchNorm2d(64)\n",
    "        self.relu = nn.ReLU()\n",
    "        self.maxpool = nn.MaxPool2d(kernel_size=3, stride=2, padding=1)\n",
    "        \n",
    "        #ResNet layers\n",
    "        self.layer1 = self._make_layer(block, layers[0], out_channels=64, stride=1)\n",
    "        self.layer2 = self._make_layer(block, layers[1], out_channels=128, stride=2)\n",
    "        self.layer3 = self._make_layer(block, layers[2], out_channels=256, stride=2)\n",
    "        self.layer4 = self._make_layer(block, layers[3], out_channels=512, stride=2)\n",
    "        \n",
    "        self.avgpool = nn.AdaptiveAvgPool2d((1,1))\n",
    "        self.fc = nn.Linear(512*4, num_classes)\n",
    "        \n",
    "    def forward(self,x):\n",
    "        x = self.conv1(x)\n",
    "        x = self.bn1(x)\n",
    "        x = self.relu(x)\n",
    "        x = self.maxpool(x)\n",
    "        x = self.layer1(x)\n",
    "        x = self.layer2(x)\n",
    "        x = self.layer3(x)\n",
    "        x = self.layer4(x)\n",
    "\n",
    "        x = self.avgpool(x)\n",
    "        x = x.reshape(x.shape[0],-1)\n",
    "        x = self.fc(x)\n",
    "    \n",
    "        return x\n",
    "    \n",
    "    def _make_layer(self, block, num_residual_blocks, out_channels, stride):\n",
    "        identity_downsample = None\n",
    "        layers = []\n",
    "        \n",
    "        if stride != 1 or self.in_channels != out_channels*4:\n",
    "            identity_downsample = nn.Sequential(nn.Conv2d(self.in_channels, out_channels*4, kernel_size=1, stride=stride),\n",
    "                                                \n",
    "                                                nn.BatchNorm2d(out_channels*4))\n",
    "            layers.append(block(self.in_channels, out_channels, identity_downsample, stride))\n",
    "            self.in_channels = out_channels*4\n",
    "            \n",
    "            for i in range(num_residual_blocks - 1):\n",
    "                layers.append(block(self.in_channels, out_channels)) # 256 -> 64, 64*4 (256) again\n",
    "                \n",
    "            return nn.Sequential(*layers)"
   ]
  },
  {
   "cell_type": "code",
   "execution_count": 7,
   "metadata": {},
   "outputs": [],
   "source": [
    "def ResNet50(img_channels=3, num_classes = 1000):\n",
    "    return ResNet(block, [3, 4, 6, 3], img_channels, num_classes)"
   ]
  },
  {
   "cell_type": "code",
   "execution_count": 8,
   "metadata": {},
   "outputs": [],
   "source": [
    "def ResNet101(img_channels=3, num_classes = 1000):\n",
    "    return ResNet(block, [3, 4, 23, 3], img_channels, num_classes)"
   ]
  },
  {
   "cell_type": "code",
   "execution_count": 9,
   "metadata": {},
   "outputs": [],
   "source": [
    "def ResNet152(img_channels=3, num_classes = 1000):\n",
    "    return ResNet(block, [3, 8, 36, 3], img_channels, num_classes)"
   ]
  },
  {
   "cell_type": "code",
   "execution_count": 10,
   "metadata": {},
   "outputs": [
    {
     "ename": "AssertionError",
     "evalue": "Torch not compiled with CUDA enabled",
     "output_type": "error",
     "traceback": [
      "\u001b[1;31m---------------------------------------------------------------------------\u001b[0m",
      "\u001b[1;31mAssertionError\u001b[0m                            Traceback (most recent call last)",
      "\u001b[1;32md:\\Duy Anh k15\\OneDrive - Trường Đại học Phenikaa\\Working\\Ailab\\OCR\\W1 - Resnet, Resnext, Densenet\\Resnet\\resnet_pytorch.ipynb Cell 8'\u001b[0m in \u001b[0;36m<cell line: 6>\u001b[1;34m()\u001b[0m\n\u001b[0;32m      <a href='vscode-notebook-cell:/d%3A/Duy%20Anh%20k15/OneDrive%20-%20Tr%C6%B0%E1%BB%9Dng%20%C4%90%E1%BA%A1i%20h%E1%BB%8Dc%20Phenikaa/Working/Ailab/OCR/W1%20-%20Resnet%2C%20Resnext%2C%20Densenet/Resnet/resnet_pytorch.ipynb#ch0000007?line=2'>3</a>\u001b[0m     y \u001b[39m=\u001b[39m net(torch\u001b[39m.\u001b[39mrandn(\u001b[39m4\u001b[39m, \u001b[39m3\u001b[39m, \u001b[39m224\u001b[39m, \u001b[39m224\u001b[39m))\u001b[39m.\u001b[39mto(\u001b[39m\"\u001b[39m\u001b[39mcuda\u001b[39m\u001b[39m\"\u001b[39m)\n\u001b[0;32m      <a href='vscode-notebook-cell:/d%3A/Duy%20Anh%20k15/OneDrive%20-%20Tr%C6%B0%E1%BB%9Dng%20%C4%90%E1%BA%A1i%20h%E1%BB%8Dc%20Phenikaa/Working/Ailab/OCR/W1%20-%20Resnet%2C%20Resnext%2C%20Densenet/Resnet/resnet_pytorch.ipynb#ch0000007?line=3'>4</a>\u001b[0m     \u001b[39mprint\u001b[39m(y\u001b[39m.\u001b[39msize())\n\u001b[1;32m----> <a href='vscode-notebook-cell:/d%3A/Duy%20Anh%20k15/OneDrive%20-%20Tr%C6%B0%E1%BB%9Dng%20%C4%90%E1%BA%A1i%20h%E1%BB%8Dc%20Phenikaa/Working/Ailab/OCR/W1%20-%20Resnet%2C%20Resnext%2C%20Densenet/Resnet/resnet_pytorch.ipynb#ch0000007?line=5'>6</a>\u001b[0m test()\n",
      "\u001b[1;32md:\\Duy Anh k15\\OneDrive - Trường Đại học Phenikaa\\Working\\Ailab\\OCR\\W1 - Resnet, Resnext, Densenet\\Resnet\\resnet_pytorch.ipynb Cell 8'\u001b[0m in \u001b[0;36mtest\u001b[1;34m()\u001b[0m\n\u001b[0;32m      <a href='vscode-notebook-cell:/d%3A/Duy%20Anh%20k15/OneDrive%20-%20Tr%C6%B0%E1%BB%9Dng%20%C4%90%E1%BA%A1i%20h%E1%BB%8Dc%20Phenikaa/Working/Ailab/OCR/W1%20-%20Resnet%2C%20Resnext%2C%20Densenet/Resnet/resnet_pytorch.ipynb#ch0000007?line=0'>1</a>\u001b[0m \u001b[39mdef\u001b[39;00m \u001b[39mtest\u001b[39m():\n\u001b[0;32m      <a href='vscode-notebook-cell:/d%3A/Duy%20Anh%20k15/OneDrive%20-%20Tr%C6%B0%E1%BB%9Dng%20%C4%90%E1%BA%A1i%20h%E1%BB%8Dc%20Phenikaa/Working/Ailab/OCR/W1%20-%20Resnet%2C%20Resnext%2C%20Densenet/Resnet/resnet_pytorch.ipynb#ch0000007?line=1'>2</a>\u001b[0m     net \u001b[39m=\u001b[39m ResNet101(img_channels\u001b[39m=\u001b[39m\u001b[39m3\u001b[39m, num_classes\u001b[39m=\u001b[39m\u001b[39m1000\u001b[39m)\n\u001b[1;32m----> <a href='vscode-notebook-cell:/d%3A/Duy%20Anh%20k15/OneDrive%20-%20Tr%C6%B0%E1%BB%9Dng%20%C4%90%E1%BA%A1i%20h%E1%BB%8Dc%20Phenikaa/Working/Ailab/OCR/W1%20-%20Resnet%2C%20Resnext%2C%20Densenet/Resnet/resnet_pytorch.ipynb#ch0000007?line=2'>3</a>\u001b[0m     y \u001b[39m=\u001b[39m net(torch\u001b[39m.\u001b[39;49mrandn(\u001b[39m4\u001b[39;49m, \u001b[39m3\u001b[39;49m, \u001b[39m224\u001b[39;49m, \u001b[39m224\u001b[39;49m))\u001b[39m.\u001b[39;49mto(\u001b[39m\"\u001b[39;49m\u001b[39mcuda\u001b[39;49m\u001b[39m\"\u001b[39;49m)\n\u001b[0;32m      <a href='vscode-notebook-cell:/d%3A/Duy%20Anh%20k15/OneDrive%20-%20Tr%C6%B0%E1%BB%9Dng%20%C4%90%E1%BA%A1i%20h%E1%BB%8Dc%20Phenikaa/Working/Ailab/OCR/W1%20-%20Resnet%2C%20Resnext%2C%20Densenet/Resnet/resnet_pytorch.ipynb#ch0000007?line=3'>4</a>\u001b[0m     \u001b[39mprint\u001b[39m(y\u001b[39m.\u001b[39msize())\n",
      "File \u001b[1;32md:\\Anaconda\\envs\\ANN_Pytorch\\lib\\site-packages\\torch\\cuda\\__init__.py:208\u001b[0m, in \u001b[0;36m_lazy_init\u001b[1;34m()\u001b[0m\n\u001b[0;32m    <a href='file:///d%3A/Anaconda/envs/ANN_Pytorch/lib/site-packages/torch/cuda/__init__.py?line=203'>204</a>\u001b[0m     \u001b[39mraise\u001b[39;00m \u001b[39mRuntimeError\u001b[39;00m(\n\u001b[0;32m    <a href='file:///d%3A/Anaconda/envs/ANN_Pytorch/lib/site-packages/torch/cuda/__init__.py?line=204'>205</a>\u001b[0m         \u001b[39m\"\u001b[39m\u001b[39mCannot re-initialize CUDA in forked subprocess. To use CUDA with \u001b[39m\u001b[39m\"\u001b[39m\n\u001b[0;32m    <a href='file:///d%3A/Anaconda/envs/ANN_Pytorch/lib/site-packages/torch/cuda/__init__.py?line=205'>206</a>\u001b[0m         \u001b[39m\"\u001b[39m\u001b[39mmultiprocessing, you must use the \u001b[39m\u001b[39m'\u001b[39m\u001b[39mspawn\u001b[39m\u001b[39m'\u001b[39m\u001b[39m start method\u001b[39m\u001b[39m\"\u001b[39m)\n\u001b[0;32m    <a href='file:///d%3A/Anaconda/envs/ANN_Pytorch/lib/site-packages/torch/cuda/__init__.py?line=206'>207</a>\u001b[0m \u001b[39mif\u001b[39;00m \u001b[39mnot\u001b[39;00m \u001b[39mhasattr\u001b[39m(torch\u001b[39m.\u001b[39m_C, \u001b[39m'\u001b[39m\u001b[39m_cuda_getDeviceCount\u001b[39m\u001b[39m'\u001b[39m):\n\u001b[1;32m--> <a href='file:///d%3A/Anaconda/envs/ANN_Pytorch/lib/site-packages/torch/cuda/__init__.py?line=207'>208</a>\u001b[0m     \u001b[39mraise\u001b[39;00m \u001b[39mAssertionError\u001b[39;00m(\u001b[39m\"\u001b[39m\u001b[39mTorch not compiled with CUDA enabled\u001b[39m\u001b[39m\"\u001b[39m)\n\u001b[0;32m    <a href='file:///d%3A/Anaconda/envs/ANN_Pytorch/lib/site-packages/torch/cuda/__init__.py?line=208'>209</a>\u001b[0m \u001b[39mif\u001b[39;00m _cudart \u001b[39mis\u001b[39;00m \u001b[39mNone\u001b[39;00m:\n\u001b[0;32m    <a href='file:///d%3A/Anaconda/envs/ANN_Pytorch/lib/site-packages/torch/cuda/__init__.py?line=209'>210</a>\u001b[0m     \u001b[39mraise\u001b[39;00m \u001b[39mAssertionError\u001b[39;00m(\n\u001b[0;32m    <a href='file:///d%3A/Anaconda/envs/ANN_Pytorch/lib/site-packages/torch/cuda/__init__.py?line=210'>211</a>\u001b[0m         \u001b[39m\"\u001b[39m\u001b[39mlibcudart functions unavailable. It looks like you have a broken build?\u001b[39m\u001b[39m\"\u001b[39m)\n",
      "\u001b[1;31mAssertionError\u001b[0m: Torch not compiled with CUDA enabled"
     ]
    }
   ],
   "source": [
    "def test():\n",
    "    net = ResNet101(img_channels=3, num_classes=1000)\n",
    "    y = net(torch.randn(4, 3, 224, 224)).to(\"cuda\")\n",
    "    print(y.size())\n",
    "    \n",
    "test()"
   ]
  },
  {
   "cell_type": "markdown",
   "metadata": {},
   "source": []
  }
 ],
 "metadata": {
  "interpreter": {
   "hash": "f96e9653249fd0123dd103b13ce13c3aab36da1cef6304a6a4577f840f352c6d"
  },
  "kernelspec": {
   "display_name": "Python 3.9.12 ('ANN_Pytorch')",
   "language": "python",
   "name": "python3"
  },
  "language_info": {
   "codemirror_mode": {
    "name": "ipython",
    "version": 3
   },
   "file_extension": ".py",
   "mimetype": "text/x-python",
   "name": "python",
   "nbconvert_exporter": "python",
   "pygments_lexer": "ipython3",
   "version": "3.9.12"
  },
  "orig_nbformat": 4
 },
 "nbformat": 4,
 "nbformat_minor": 2
}
